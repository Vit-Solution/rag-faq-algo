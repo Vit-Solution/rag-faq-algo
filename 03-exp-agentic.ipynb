{
 "cells": [
  {
   "cell_type": "code",
   "execution_count": 2,
   "id": "62015b6a",
   "metadata": {},
   "outputs": [
    {
     "name": "stderr",
     "output_type": "stream",
     "text": [
      "USER_AGENT environment variable not set, consider setting it to identify your requests.\n"
     ]
    }
   ],
   "source": [
    "import re\n",
    "import os\n",
    "from langchain_community.document_loaders import WebBaseLoader\n",
    "from langchain_text_splitters import RecursiveCharacterTextSplitter\n",
    "from langchain.document_loaders import (\n",
    "    UnstructuredPDFLoader,\n",
    "    PyPDFLoader,\n",
    "    PDFPlumberLoader,\n",
    ")"
   ]
  },
  {
   "cell_type": "code",
   "execution_count": 3,
   "id": "d5c4fe01",
   "metadata": {},
   "outputs": [],
   "source": [
    "def load_pdfs_from_directory(directory_path):\n",
    "    documents = []\n",
    "    for filename in os.listdir(directory_path):\n",
    "        if filename.endswith(\".pdf\"):\n",
    "            filepath = os.path.join(directory_path, filename)\n",
    "            try:\n",
    "                # Try structured first\n",
    "                loader = PyPDFLoader(filepath)\n",
    "                # loader = PDFPlumberLoader(filepath)\n",
    "                docs = loader.load()\n",
    "            except:\n",
    "                # Fallback to unstructured\n",
    "                loader = UnstructuredPDFLoader(filepath, strategy=\"ocr-only\")\n",
    "                docs = loader.load()\n",
    "            documents.extend(docs)\n",
    "    return documents\n",
    "\n",
    "\n",
    "def load_documents_from_urls(urls):\n",
    "    documents = []\n",
    "    for url in urls:\n",
    "        loader = WebBaseLoader(url)\n",
    "        docs = loader.load()\n",
    "        documents.extend(docs)\n",
    "    return documents\n",
    "\n",
    "\n",
    "def clean_text(text):\n",
    "    # Remove excess newlines and whitespace\n",
    "    cleaned = re.sub(r\"\\n{2,}\", \"\\n\", text)\n",
    "    cleaned = re.sub(r\"\\s{2,}\", \" \", cleaned)\n",
    "    return cleaned.strip()\n",
    "\n",
    "\n",
    "def combine_documents(pdf_docs, web_docs):\n",
    "    return pdf_docs + web_docs"
   ]
  },
  {
   "cell_type": "code",
   "execution_count": 4,
   "id": "ab45668d",
   "metadata": {},
   "outputs": [
    {
     "data": {
      "text/plain": [
       "227"
      ]
     },
     "execution_count": 4,
     "metadata": {},
     "output_type": "execute_result"
    }
   ],
   "source": [
    "pdf_path = \"./data\"\n",
    "\n",
    "pdf_docs = load_pdfs_from_directory(pdf_path)\n",
    "len(pdf_docs)"
   ]
  },
  {
   "cell_type": "code",
   "execution_count": 5,
   "id": "91684d36",
   "metadata": {},
   "outputs": [],
   "source": [
    "def is_valid_doc(doc):\n",
    "    return doc.page_content and doc.page_content.strip().replace(\"\\n\", \"\").strip() != \"\"\n",
    "\n",
    "\n",
    "filtered_docs = [doc for doc in pdf_docs if is_valid_doc(doc)]\n",
    "len(filtered_docs)\n",
    "\n",
    "for doc in filtered_docs:\n",
    "    doc.page_content = clean_text(doc.page_content)\n"
   ]
  },
  {
   "cell_type": "code",
   "execution_count": 6,
   "id": "2ed9cc1f",
   "metadata": {},
   "outputs": [
    {
     "data": {
      "text/plain": [
       "216"
      ]
     },
     "execution_count": 6,
     "metadata": {},
     "output_type": "execute_result"
    }
   ],
   "source": [
    "def is_valid_doc(doc):\n",
    "    text = doc.page_content.strip().replace(\"\\n\", \"\")\n",
    "    return len(text) > 30\n",
    "\n",
    "\n",
    "filtd = [doc for doc in filtered_docs if is_valid_doc(doc)]\n",
    "len(filtd)"
   ]
  },
  {
   "cell_type": "code",
   "execution_count": 7,
   "id": "d26d3550",
   "metadata": {},
   "outputs": [
    {
     "data": {
      "text/plain": [
       "218"
      ]
     },
     "execution_count": 7,
     "metadata": {},
     "output_type": "execute_result"
    }
   ],
   "source": [
    "len(filtered_docs)\n"
   ]
  },
  {
   "cell_type": "code",
   "execution_count": 8,
   "id": "d858a456",
   "metadata": {},
   "outputs": [],
   "source": [
    "# # Let's index a few of Lilian Weng's blog posts\n",
    "# urls = [\n",
    "#     \"https://medium.com/@olalekantemidayo1/5-legal-documents-every-startup-founder-needs-before-collecting-a-kobo-9f09721a59da\",\n",
    "#     \"https://www.linkedin.com/pulse/startup-101-legal-foundation-every-needs-temidayo-v-olalekan-2zohf\",\n",
    "#     \"https://blog.taxpal.africa/tax-documents-checklist-for-nigerian-businesses-and-individuals/\",\n",
    "#     \"https://taxsummaries.pwc.com/nigeria/individual/tax-administration\",\n",
    "#     \"https://firmusnigeria.com/doing-business-in-nigeria-questions-investors-ask/\",\n",
    "#     \"https://beebot.io/cac-registration-requirements-what-you-need-to-know/?utm_source=chatgpt.com\",\n",
    "#     \"https://www.verazadvocates.com.ng/2024/06/19/cac-business-name-registration-2024/?utm_source=chatgpt.com\",\n",
    "#     \"https://www.goidara.com/blog/what-happens-after-business-name-registration-in-nigeria?utm_source=chatgpt.com\",\n",
    "# ]\n",
    "\n",
    "# # Load documents from each URL\n",
    "# # docs = [WebBaseLoader(url).load() for url in urls]\n",
    "\n",
    "# web_docs = load_documents_from_urls(urls)\n",
    "# len(web_docs)"
   ]
  },
  {
   "cell_type": "code",
   "execution_count": null,
   "id": "a42ab53d",
   "metadata": {},
   "outputs": [
    {
     "data": {
      "text/plain": [
       "218"
      ]
     },
     "execution_count": 9,
     "metadata": {},
     "output_type": "execute_result"
    }
   ],
   "source": [
    "# full_doc = combine_documents(filtered_docs, web_docs)\n",
    "# full_doc = combine_documents(filtd, web_docs)\n",
    "full_doc = filtered_docs  # + web_docs\n",
    "len(full_doc)"
   ]
  },
  {
   "cell_type": "code",
   "execution_count": 10,
   "id": "821e6668",
   "metadata": {},
   "outputs": [
    {
     "data": {
      "text/plain": [
       "Document(metadata={'producer': 'Skia/PDF m141 Google Docs Renderer', 'creator': 'PyPDF', 'creationdate': '', 'title': 'vit_urls', 'source': './data\\\\vit_urls.pdf', 'total_pages': 30, 'page': 29, 'page_label': '30'}, page_content='4. After the upload click on the submit button. You will only go to the site to check if your certificate is out. Once you see your Business Number you will know that the certificate is ready. Go to the CAC office to collect your certificate. 5. If you are not in any of the states mentioned above, after the name search, go back to CAC office buy the registration forms after filling the forms attach your passport proceed to the bank to make payment, after the payment you submit the forms and the payment teller or receipt, the notice of approval, means of identification to CAC office (NB: you will have to generate Remita Retrieval Reference (RRR) code which shall be used for the payment). 6. Once the form is submitted, you go to CAC office one week after to check if the certificate is out. If the certificate is out, you sign and collect your certificate. 7. If any of the objects you entered in the form is a specialized one e.g legal services, accounting services or consulting you will need a proficiency certificate.')"
      ]
     },
     "execution_count": 10,
     "metadata": {},
     "output_type": "execute_result"
    }
   ],
   "source": [
    "full_doc[-1]"
   ]
  },
  {
   "cell_type": "code",
   "execution_count": null,
   "id": "20c87bfa",
   "metadata": {},
   "outputs": [
    {
     "data": {
      "text/plain": [
       "218"
      ]
     },
     "execution_count": 11,
     "metadata": {},
     "output_type": "execute_result"
    }
   ],
   "source": [
    "# Initialize text splitter\n",
    "# text_splitter = RecursiveCharacterTextSplitter.from_tiktoken_encoder(\n",
    "#     chunk_size=2000, chunk_overlap=50\n",
    "# )\n",
    "text_splitter = RecursiveCharacterTextSplitter.from_tiktoken_encoder(\n",
    "    chunk_size=1200, chunk_overlap=150\n",
    ")\n",
    "# Split documents into chunks\n",
    "doc_splits = text_splitter.split_documents(full_doc)\n",
    "\n",
    "len(doc_splits)"
   ]
  },
  {
   "cell_type": "markdown",
   "id": "fb910258",
   "metadata": {},
   "source": [
    "### Create embeddings\n"
   ]
  },
  {
   "cell_type": "code",
   "execution_count": 14,
   "id": "17501752",
   "metadata": {},
   "outputs": [
    {
     "data": {
      "text/plain": [
       "Document(metadata={'producer': 'Canva', 'creator': 'Canva', 'creationdate': '2024-08-27T11:46:44+00:00', 'title': '2024 BFA-Half Year Compliance Report v1.pdf', 'moddate': '2024-08-27T11:46:31+00:00', 'keywords': 'DAGNR16cYIk,BAFadKxJcSo', 'author': 'King Espy', 'source': './data\\\\02-compliance_act_report.pdf', 'total_pages': 43, 'page': 1, 'page_label': '2'}, page_content='PEBEC Priority MDAs\\nIntroduction\\nEfficiency Compliance Ranking\\nTransparency Assessment Ranking\\nOverall Performance Results\\nSector-Specific Scorecard\\nReportGov.Ng Compliance Report\\nCommendations\\nConclusion\\nPage 03\\nPage 04\\nPage 05\\nPage 07\\nPage 09\\nPage 11\\nPage 13\\nPage 16\\nPage 18\\nAppendicesPage 19\\nTABLE OF')"
      ]
     },
     "execution_count": 14,
     "metadata": {},
     "output_type": "execute_result"
    }
   ],
   "source": [
    "doc_splits[1]"
   ]
  },
  {
   "cell_type": "code",
   "execution_count": 28,
   "id": "6afb331c",
   "metadata": {},
   "outputs": [
    {
     "name": "stderr",
     "output_type": "stream",
     "text": [
      "C:\\Users\\USER\\AppData\\Local\\Temp\\ipykernel_6808\\3751171501.py:3: PydanticDeprecatedSince20: The `dict` method is deprecated; use `model_dump` instead. Deprecated in Pydantic V2.0 to be removed in V3.0. See Pydantic V2 Migration Guide at https://errors.pydantic.dev/2.11/migration/\n",
      "  cont_dict = cont.dict()\n"
     ]
    },
    {
     "data": {
      "text/plain": [
       "{'id': 0,\n",
       " 'metadata': {'producer': 'Canva',\n",
       "  'creator': 'Canva',\n",
       "  'creationdate': '2024-08-27T11:46:44+00:00',\n",
       "  'title': '2024 BFA-Half Year Compliance Report v1.pdf',\n",
       "  'moddate': '2024-08-27T11:46:31+00:00',\n",
       "  'keywords': 'DAGNR16cYIk,BAFadKxJcSo',\n",
       "  'author': 'King Espy',\n",
       "  'source': './data\\\\02-compliance_act_report.pdf',\n",
       "  'total_pages': 43,\n",
       "  'page': 0,\n",
       "  'page_label': '1'},\n",
       " 'page_content': 'J a n u a r y 2 0 2 4 – J u n e 2 0 2 4 2024\\nHALF YEAR TRANSPARENCY\\nAND EFFICIENCY\\nCOMPLIANCE REPORT\\nPEBECPRESIDENTIAL ENABLING BUSINESS ENVIRONMENT COUNCIL SECRETARIAT',\n",
       " 'type': 'Document'}"
      ]
     },
     "execution_count": 28,
     "metadata": {},
     "output_type": "execute_result"
    }
   ],
   "source": [
    "docs = []\n",
    "for i, cont in enumerate(doc_splits):\n",
    "    cont_dict = cont.dict()\n",
    "    cont_dict[\"id\"] = i\n",
    "    docs.append(cont_dict)\n",
    "docs[0]"
   ]
  },
  {
   "cell_type": "code",
   "execution_count": 29,
   "id": "01fb978a",
   "metadata": {},
   "outputs": [
    {
     "name": "stderr",
     "output_type": "stream",
     "text": [
      "C:\\Users\\USER\\AppData\\Local\\Temp\\ipykernel_6808\\3751171501.py:3: PydanticDeprecatedSince20: The `dict` method is deprecated; use `model_dump` instead. Deprecated in Pydantic V2.0 to be removed in V3.0. See Pydantic V2 Migration Guide at https://errors.pydantic.dev/2.11/migration/\n",
      "  cont_dict = cont.dict()\n"
     ]
    },
    {
     "data": {
      "text/plain": [
       "{'id': 0,\n",
       " 'metadata': {'producer': 'Canva',\n",
       "  'creator': 'Canva',\n",
       "  'creationdate': '2024-08-27T11:46:44+00:00',\n",
       "  'title': '2024 BFA-Half Year Compliance Report v1.pdf',\n",
       "  'moddate': '2024-08-27T11:46:31+00:00',\n",
       "  'keywords': 'DAGNR16cYIk,BAFadKxJcSo',\n",
       "  'author': 'King Espy',\n",
       "  'source': './data\\\\02-compliance_act_report.pdf',\n",
       "  'total_pages': 43,\n",
       "  'page': 0,\n",
       "  'page_label': '1'},\n",
       " 'page_content': 'J a n u a r y 2 0 2 4 – J u n e 2 0 2 4 2024\\nHALF YEAR TRANSPARENCY\\nAND EFFICIENCY\\nCOMPLIANCE REPORT\\nPEBECPRESIDENTIAL ENABLING BUSINESS ENVIRONMENT COUNCIL SECRETARIAT',\n",
       " 'type': 'Document'}"
      ]
     },
     "execution_count": 29,
     "metadata": {},
     "output_type": "execute_result"
    }
   ],
   "source": [
    "docs = []\n",
    "for i, cont in enumerate(doc_splits):\n",
    "    cont_dict = cont.dict()\n",
    "    cont_dict[\"id\"] = i\n",
    "    docs.append(cont_dict)\n",
    "docs[0]"
   ]
  },
  {
   "cell_type": "code",
   "execution_count": 30,
   "id": "9b298739",
   "metadata": {},
   "outputs": [
    {
     "data": {
      "text/plain": [
       "dict_keys(['id', 'metadata', 'page_content', 'type'])"
      ]
     },
     "execution_count": 30,
     "metadata": {},
     "output_type": "execute_result"
    }
   ],
   "source": [
    "docs[0].keys()"
   ]
  },
  {
   "cell_type": "code",
   "execution_count": 31,
   "id": "fc11bf4e",
   "metadata": {},
   "outputs": [
    {
     "data": {
      "text/plain": [
       "{'producer': 'Canva',\n",
       " 'creator': 'Canva',\n",
       " 'creationdate': '2024-08-27T11:46:44+00:00',\n",
       " 'title': '2024 BFA-Half Year Compliance Report v1.pdf',\n",
       " 'moddate': '2024-08-27T11:46:31+00:00',\n",
       " 'keywords': 'DAGNR16cYIk,BAFadKxJcSo',\n",
       " 'author': 'King Espy',\n",
       " 'source': './data\\\\02-compliance_act_report.pdf',\n",
       " 'total_pages': 43,\n",
       " 'page': 0,\n",
       " 'page_label': '1'}"
      ]
     },
     "execution_count": 31,
     "metadata": {},
     "output_type": "execute_result"
    }
   ],
   "source": [
    "docs[0][\"metadata\"]"
   ]
  },
  {
   "cell_type": "markdown",
   "id": "8c77802f",
   "metadata": {},
   "source": [
    "### Set up embedding model and vectorstore\n"
   ]
  },
  {
   "cell_type": "code",
   "execution_count": 19,
   "id": "cb3906fb",
   "metadata": {},
   "outputs": [],
   "source": [
    "from qdrant_client import QdrantClient\n",
    "from qdrant_client import models"
   ]
  },
  {
   "cell_type": "code",
   "execution_count": 20,
   "id": "a2391d2c",
   "metadata": {},
   "outputs": [],
   "source": [
    "client = QdrantClient(\"http://localhost:6333\")"
   ]
  },
  {
   "cell_type": "code",
   "execution_count": 21,
   "id": "86e0b5a1",
   "metadata": {},
   "outputs": [],
   "source": [
    "model_handle = \"jinaai/jina-embeddings-v2-small-en\"\n",
    "EMBEDDING_DIMENSIONALITY = 512\n",
    "collection_name = \"agentic-rag\""
   ]
  },
  {
   "cell_type": "code",
   "execution_count": 22,
   "id": "7dd570c4",
   "metadata": {},
   "outputs": [],
   "source": [
    "# docker run -p 6333:6333 qdrant/qdrant"
   ]
  },
  {
   "cell_type": "code",
   "execution_count": 23,
   "id": "76e5131a",
   "metadata": {},
   "outputs": [
    {
     "data": {
      "text/plain": [
       "True"
      ]
     },
     "execution_count": 23,
     "metadata": {},
     "output_type": "execute_result"
    }
   ],
   "source": [
    "# client.delete_collection(collection_name=collection_name)"
   ]
  },
  {
   "cell_type": "code",
   "execution_count": 24,
   "id": "e4fb9a9f",
   "metadata": {},
   "outputs": [
    {
     "data": {
      "text/plain": [
       "True"
      ]
     },
     "execution_count": 24,
     "metadata": {},
     "output_type": "execute_result"
    }
   ],
   "source": [
    "# Create the collection with specified vector parameters\n",
    "# if client.get_collection(collection_name=collection_name):\n",
    "#     print(f\"collection '{collection_name}' already exists\")\n",
    "# else:\n",
    "client.create_collection(\n",
    "    collection_name=collection_name,\n",
    "    vectors_config=models.VectorParams(\n",
    "        size=EMBEDDING_DIMENSIONALITY,  # Dimensionality of the vectors\n",
    "        distance=models.Distance.COSINE,  # Distance metric for similarity search\n",
    "    ),\n",
    ")"
   ]
  },
  {
   "cell_type": "code",
   "execution_count": 33,
   "id": "e2d14b19",
   "metadata": {},
   "outputs": [
    {
     "data": {
      "text/plain": [
       "{'id': 0,\n",
       " 'metadata': {'producer': 'Canva',\n",
       "  'creator': 'Canva',\n",
       "  'creationdate': '2024-08-27T11:46:44+00:00',\n",
       "  'title': '2024 BFA-Half Year Compliance Report v1.pdf',\n",
       "  'moddate': '2024-08-27T11:46:31+00:00',\n",
       "  'keywords': 'DAGNR16cYIk,BAFadKxJcSo',\n",
       "  'author': 'King Espy',\n",
       "  'source': './data\\\\02-compliance_act_report.pdf',\n",
       "  'total_pages': 43,\n",
       "  'page': 0,\n",
       "  'page_label': '1'},\n",
       " 'page_content': 'J a n u a r y 2 0 2 4 – J u n e 2 0 2 4 2024\\nHALF YEAR TRANSPARENCY\\nAND EFFICIENCY\\nCOMPLIANCE REPORT\\nPEBECPRESIDENTIAL ENABLING BUSINESS ENVIRONMENT COUNCIL SECRETARIAT',\n",
       " 'type': 'Document'}"
      ]
     },
     "execution_count": 33,
     "metadata": {},
     "output_type": "execute_result"
    }
   ],
   "source": [
    "docs[0]"
   ]
  },
  {
   "cell_type": "code",
   "execution_count": null,
   "id": "95e309be",
   "metadata": {},
   "outputs": [],
   "source": [
    "points = []\n",
    "id = 0\n",
    "for i, doc in enumerate(docs):\n",
    "    # Create a PointStruct with the document's embedding\n",
    "    point = models.PointStruct(\n",
    "        id=i,  # Unique ID for the point\n",
    "        vector=models.Document(\n",
    "            text=doc[\"page_content\"],\n",
    "            model=model_handle,\n",
    "        ),\n",
    "        payload={\"metadata\": doc[\"metadata\"]},  # Optional metadata (like the raw text)\n",
    "    )\n",
    "    points.append(point)\n",
    "    id += 1"
   ]
  },
  {
   "cell_type": "code",
   "execution_count": 27,
   "id": "b7b13c94",
   "metadata": {},
   "outputs": [
    {
     "data": {
      "text/plain": [
       "(218, 218)"
      ]
     },
     "execution_count": 27,
     "metadata": {},
     "output_type": "execute_result"
    }
   ],
   "source": [
    "len(points), len(docs)"
   ]
  },
  {
   "cell_type": "code",
   "execution_count": 28,
   "id": "667d0154",
   "metadata": {},
   "outputs": [
    {
     "data": {
      "text/plain": [
       "UpdateResult(operation_id=0, status=<UpdateStatus.COMPLETED: 'completed'>)"
      ]
     },
     "execution_count": 28,
     "metadata": {},
     "output_type": "execute_result"
    }
   ],
   "source": [
    "client.upsert(collection_name=collection_name, points=points)"
   ]
  },
  {
   "cell_type": "code",
   "execution_count": 29,
   "id": "d386eea1",
   "metadata": {},
   "outputs": [],
   "source": [
    "def search(query, limit=3):\n",
    "    results = client.query_points(\n",
    "        collection_name=collection_name,\n",
    "        query=models.Document(  # embed the query text locally with \"jinaai/jina-embeddings-v2-small-en\"\n",
    "            text=query, model=model_handle\n",
    "        ),\n",
    "        limit=limit,  # top closest matches\n",
    "        with_payload=True,  # to get metadata in the results\n",
    "    )\n",
    "\n",
    "    return results"
   ]
  },
  {
   "cell_type": "code",
   "execution_count": 30,
   "id": "7b89d3b2",
   "metadata": {},
   "outputs": [],
   "source": [
    "q = \"Starting a business in Nigeria\"\n",
    "r = search(q)"
   ]
  },
  {
   "cell_type": "code",
   "execution_count": null,
   "id": "5e9bd601",
   "metadata": {},
   "outputs": [
    {
     "data": {
      "text/plain": [
       "[ScoredPoint(id=190, version=0, score=0.9271824, payload={'metadata': {'producer': 'Skia/PDF m141 Google Docs Renderer', 'creator': 'PyPDF', 'creationdate': '', 'title': 'vit_urls', 'source': './data\\\\vit_urls.pdf', 'total_pages': 30, 'page': 2, 'page_label': '3'}}, vector=None, shard_key=None, order_value=None),\n",
       " ScoredPoint(id=189, version=0, score=0.89648193, payload={'metadata': {'producer': 'Skia/PDF m141 Google Docs Renderer', 'creator': 'PyPDF', 'creationdate': '', 'title': 'vit_urls', 'source': './data\\\\vit_urls.pdf', 'total_pages': 30, 'page': 1, 'page_label': '2'}}, vector=None, shard_key=None, order_value=None),\n",
       " ScoredPoint(id=191, version=0, score=0.8935541, payload={'metadata': {'producer': 'Skia/PDF m141 Google Docs Renderer', 'creator': 'PyPDF', 'creationdate': '', 'title': 'vit_urls', 'source': './data\\\\vit_urls.pdf', 'total_pages': 30, 'page': 3, 'page_label': '4'}}, vector=None, shard_key=None, order_value=None)]"
      ]
     },
     "execution_count": 36,
     "metadata": {},
     "output_type": "execute_result"
    }
   ],
   "source": [
    "r.points  # [0].payload"
   ]
  },
  {
   "cell_type": "markdown",
   "id": "e9044b06",
   "metadata": {},
   "source": [
    "### With Langchain\n"
   ]
  },
  {
   "cell_type": "code",
   "execution_count": null,
   "id": "8e716750",
   "metadata": {},
   "outputs": [
    {
     "data": {
      "text/plain": [
       "True"
      ]
     },
     "execution_count": 14,
     "metadata": {},
     "output_type": "execute_result"
    }
   ],
   "source": [
    "import os\n",
    "from dotenv import load_dotenv\n",
    "\n",
    "load_dotenv()"
   ]
  },
  {
   "cell_type": "code",
   "execution_count": 40,
   "id": "a8a2f05d",
   "metadata": {},
   "outputs": [],
   "source": [
    "# from qdrant_client import QdrantClient\n",
    "\n",
    "# qdrant_client = QdrantClient(\n",
    "#     url=os.environ[\"QDRANT_URL\"],\n",
    "#     api_key=os.environ[\"QDRANT_API\"],\n",
    "# )\n",
    "\n",
    "# print(qdrant_client.get_collections())"
   ]
  },
  {
   "cell_type": "code",
   "execution_count": 39,
   "id": "22eb6432",
   "metadata": {},
   "outputs": [],
   "source": [
    "from langchain_community.vectorstores import Qdrant\n",
    "from langchain_community.embeddings import FastEmbedEmbeddings\n",
    "from langchain_qdrant import QdrantVectorStore\n",
    "# from langchain_openai import OpenAIEmbeddings\n"
   ]
  },
  {
   "cell_type": "code",
   "execution_count": null,
   "id": "9eeb0f8d",
   "metadata": {},
   "outputs": [],
   "source": [
    "embedding_model = FastEmbedEmbeddings(model_name=\"jinaai/jina-embeddings-v2-small-en\")"
   ]
  },
  {
   "cell_type": "code",
   "execution_count": null,
   "id": "3be2a96b",
   "metadata": {},
   "outputs": [],
   "source": [
    "collection_name = \"vit-rag\"\n",
    "\n",
    "doc_store = QdrantVectorStore.from_documents(\n",
    "    documents=doc_splits,\n",
    "    embeddings=embedding_model,\n",
    "    url=os.environ[\"QDRANT_URL\"],\n",
    "    api_key=os.environ[\"QDRANT_API\"],\n",
    "    collection_name=collection_name,\n",
    ")\n",
    "\n",
    "\n",
    "# this is for local disk storage\n",
    "\n",
    "# vectorstore = Qdrant.from_documents(\n",
    "#     documents=doc_splits,  # Your list of Document objects\n",
    "#     embedding=embedding_model,  # Your embedding function\n",
    "#     client=qdrant_client,\n",
    "#     collection_name=collection_name,\n",
    "# )\n"
   ]
  },
  {
   "cell_type": "code",
   "execution_count": 44,
   "id": "db6e6695",
   "metadata": {},
   "outputs": [
    {
     "data": {
      "text/plain": [
       "'vit-rag'"
      ]
     },
     "execution_count": 44,
     "metadata": {},
     "output_type": "execute_result"
    }
   ],
   "source": [
    "doc_store.collection_name\n"
   ]
  },
  {
   "cell_type": "code",
   "execution_count": 53,
   "id": "882a75b1",
   "metadata": {},
   "outputs": [],
   "source": [
    "query = \"How to register a company in Nigeria?\"\n",
    "found_docs = doc_store.similarity_search(query, k=4)\n"
   ]
  },
  {
   "cell_type": "code",
   "execution_count": 54,
   "id": "3286ae94",
   "metadata": {},
   "outputs": [
    {
     "name": "stdout",
     "output_type": "stream",
     "text": [
      "\n",
      "Upload Minutes of meetings or resolutions appointing the trustees including lists of members and the voting patterns or you can request a sample 29. What are the requirements for registering a company limited by shares in Nigeria? Two proposed names of the company for reservation and approval Indicate if you have applied or reserved your business name, if, yes provide the availability code General nature of the Business of the company Detailed address of the registered office Detailed address of the head office if different from the registered office Detailed address of branch office if any Telephone number, postal code & Email address of the company. Name, address, phone number, nationality, occupation, gender, and email address of the witnesses Upload passport photograph, Valid ID, and signature of the witness Name, email address, gender, date of birth, service, tax residency, Nationality, occupation, and residential addresses of the shareholders Upload passport photograph, Valid ID, and signatures of the shareholders Name of someone who you want to have significant control of the company (this person must have at least 5% shares of the company) Name, service and residential address, occupation, gender, date of birth, nationality, email address, phone number, and tax residency, of Directors of the company (minimum of one director for a small company) Upload passport photograph, Valid ID, and signature of the DirectorsName, service and residential address, occupation, gender, date of birth, nationality, email address, and phone number of the secretary (if any) Upload passport photograph, Valid ID, and signature of the secretary (if any)The type of shares issued (ordinary or preferential) What kind of shares are issued, is it ₦ 1 to 1\n",
      "\n",
      "development of a sustainable and inclusive economy where the rights of workers are protected and upheld. Also, complying with the relevant regulations are essential pillars for building trust and fostering positive employer-employee relations. It’s important for employers to follow due process and adhere to relevant employment laws and regulations when terminating contracts to avoid potential legal repercussions. As a business owner, business registration with CAC in Nigeria is the first step required to commence a business in Nigeria. The Corporate Affairs Commission (CAC) is the government body saddled with the task of registering new businesses. This body was established by virtue of the Companies and Allied Matters Act (CAMA) to regulate the formations and operations of companies in Nigeria. There have been various developments with respect to business name registration in Nigeria in recent years. The business name registration popularly known as Enterprise can now be completed online and the electronic certificates are now issued by CAC in lieu of the paper certificates. This is unlike before when you will have to bring everything in hardcopy and receive a hardcopy certificate. What does one need to commence the registration of business name? Below are the requirements for Business Name in Nigeria. REQUIREMENTS FOR BUSINESS NAME REGISTRATION (ENTERPRISE) 1. Proposed name(s) for name search. 2. The registered address of the proposed business 3. Email and phone number of the proposed business 4. Details of the proprietor(s) 5. full names 6. residential address 7. phone number 8. date of birth 9. email address 10. occupation 11. Identification document of the proprietor(s) ie: international passport or Voter’s card or Driver’s license or NIN. 12. Softcopy of the proprietor’s passport 13. Signature of the proprietor signed on a white sheet of paper. STEPS TO REGISTER A BUSINESS NAME For registration of Business Name, below are the steps required: 1. Submission of two desired names for the search:\n",
      "\n",
      "10. Do I need a business permit as a foreigner to work and carry out business in Nigeria? Yes, a foreigner needs a business permit 11. What are the various types of businesses I can register in Nigeria? The various types or forms of businesses in Nigeria are – Business name, limited liability, partnerships, and incorporated trustees 12. How long does it take to register a business in Nigeria? It takes an average of between 1-3 weeks to register a business in Nigeria 13. What is the benefit of registering a business in Nigeria? Registering your business in Nigeria creates a legal personality that will help you get access to government grants & investors 14. How many directors is a company required to have in Nigeria? A private company is required to have a minimum of one director, however, a company limited by guarantee is required to have a minimum of two directors 15. Can a partnership be registered? Yes. 16. How do I decide the type or form of business I should register in Nigeria? You need to consider the goal, nature of business, long term plan of your business and most importantly seek professional advice. 17. When can I register a group of companies in Nigeria?\n",
      "\n",
      "In conclusion, instead of entering into an agreement with someone on business deals and signing an MoU, it is advisable that both of you register a Limited Liability Partnership as that will secure both parties. It is also good for those that deals with international Partners. HOW TO REGISTER A LIMITED LIABILITY COMPANY A limited liability company is a company whose liability is limited by the share capital of the company. For one to incorporate a company you decide the following: 1. What type of business (the objects of the company) do you want to carry on with the company, this will determine the share capital of the company. Example if it’s a shipping company the minimum share capital is 5million Naira. If it’s a hotel the minimum share capital is 10million naira etc. 2. The people that will be directors: the directors must be18years and above. 3. The shareholders in this a child can be a shareholder of a company together with other adults. The steps to follow in registering a company are as follows: 1. Conduct an availability name search. Get two unique names of your choice e.g combination of your surname and your first name or combination of your children names. It all depends on your choice. If you are in any of these States Lagos, Kano, Rivers and Abuja, the name search and everything about registration can be done online by clicking on to www.cac.gov.ng but in other States you can walk into Corporate Affairs Commission office and they will conduct the name search for you. 2. If any of the names submitted is available for you, you then go online and commence registration by entering the availability code on your Notice of Approval. Once you are through with filling the registration forms and making payment, next is getting the forms stamped electronically by the FIRS once that is done, you print the stamped forms and receipt of payment. 3. Then next you go to document upload section of the site and upload the signed forms , the payment receipt , Notice of Approval together with directors and shareholders means of identification eg Driver’s license, Voters card, International passport or National ID card.\n"
     ]
    }
   ],
   "source": [
    "for cont in found_docs:\n",
    "    print(f\"\\n{cont.page_content}\")"
   ]
  },
  {
   "cell_type": "code",
   "execution_count": 56,
   "id": "bb297a48",
   "metadata": {},
   "outputs": [
    {
     "data": {
      "text/plain": [
       "VectorStoreRetriever(tags=['QdrantVectorStore', 'FastEmbedEmbeddings'], vectorstore=<langchain_qdrant.qdrant.QdrantVectorStore object at 0x0000025DDDC4A510>, search_kwargs={})"
      ]
     },
     "execution_count": 56,
     "metadata": {},
     "output_type": "execute_result"
    }
   ],
   "source": [
    "# Create retriever from vector store\n",
    "retriever = doc_store.as_retriever()\n",
    "retriever"
   ]
  },
  {
   "cell_type": "code",
   "execution_count": 60,
   "id": "dada3549",
   "metadata": {},
   "outputs": [
    {
     "data": {
      "text/plain": [
       "[Document(metadata={'producer': 'Skia/PDF m141 Google Docs Renderer', 'creator': 'PyPDF', 'creationdate': '', 'title': 'vit_urls', 'source': './data\\\\vit_urls.pdf', 'total_pages': 30, 'page': 2, 'page_label': '3', '_id': '2b5f4e5b-492d-470c-8def-00d1a4f92d8e', '_collection_name': 'vit-rag'}, page_content='4. What are the profitable businesses to start in Nigeria? Nigeria has a demand for various goods and services, due to its population size. Nigeria is a business-friendly economy, what you need to do is start a business in an area, work hard towards and make it profitable. 5. What is the best business to start in Nigeria? Businesses in tech space, farming, agribusiness, food and cosmetics, fashion, manufacturing, services, and a host of others BUSINESS REGISTRATION Business registration is a process that usually takes a few days, but before you start the registration process, you will want to make sure you have all the necessary information. Here are a number of questions you may find yourself asking when you want to register your business: 6. What agency oversees the registration of businesses in Nigeria? CAC (Corporate Affairs Commission) 7. Who can register a business in Nigeria? A Nigerian citizen and foreigner 8. Can a foreigner register a business name? No, registration of a Business Name is a form of business category that is reserved for only Nigerians 9. Is there a required share capital for foreign-owned businesses in Nigeria? Yes, the minimum share capital is 10,000,000 naira'),\n",
       " Document(metadata={'producer': 'Skia/PDF m141 Google Docs Renderer', 'creator': 'PyPDF', 'creationdate': '', 'title': 'vit_urls', 'source': './data\\\\vit_urls.pdf', 'total_pages': 30, 'page': 3, 'page_label': '4', '_id': '165989d1-eb44-42f4-afea-045dcf7a023a', '_collection_name': 'vit-rag'}, page_content='10. Do I need a business permit as a foreigner to work and carry out business in Nigeria? Yes, a foreigner needs a business permit 11. What are the various types of businesses I can register in Nigeria? The various types or forms of businesses in Nigeria are – Business name, limited liability, partnerships, and incorporated trustees 12. How long does it take to register a business in Nigeria? It takes an average of between 1-3 weeks to register a business in Nigeria 13. What is the benefit of registering a business in Nigeria? Registering your business in Nigeria creates a legal personality that will help you get access to government grants & investors 14. How many directors is a company required to have in Nigeria? A private company is required to have a minimum of one director, however, a company limited by guarantee is required to have a minimum of two directors 15. Can a partnership be registered? Yes. 16. How do I decide the type or form of business I should register in Nigeria? You need to consider the goal, nature of business, long term plan of your business and most importantly seek professional advice. 17. When can I register a group of companies in Nigeria?'),\n",
       " Document(metadata={'producer': 'Skia/PDF m141 Google Docs Renderer', 'creator': 'PyPDF', 'creationdate': '', 'title': 'vit_urls', 'source': './data\\\\vit_urls.pdf', 'total_pages': 30, 'page': 4, 'page_label': '5', '_id': '0ebb7e79-243d-49fc-b87a-fdfdfc992189', '_collection_name': 'vit-rag'}, page_content='You must have previously registered at least three companies with CAC to form the group of companies. Read Also: Starting a Business in Ghana 18. Are there restrictive and prohibited business names for businesses in Nigeria? Yes, they include a name already registered or similar to names already registered; names that contain the words ‘Chamber of Commerce’ unless it is a company limited by guarantee; names contrary to public policy or misleading; names that include the word “Federal”, “National”, “Regional”, “State”, “Government”, or any other word which in the opinion of the Commission suggests or is calculated to suggest that it enjoys the patronage of the Government of the Federation or the Government of a State in Nigeria, as the case may be, or any Ministry or Department of Government; “Municipal” or “Chartered” or in the opinion of the Commission suggests, or is calculated to suggest, connection with any municipality or other local authority; contains the word “Co\\n‐\\noperative” or the words “Building Society”; contains the word “Group” or “Holding 19. How long can I reserve my business name before registration? 60 days 20. Can I convert my business name registration into a company? Yes, a business name can be converted into a company limited by shares 21. What is the minimum authorized share capital in Nigeria? 100,000 naira for private companies but it is advisable to make it 1,000,000 because the fees for registration are the same and not having to go through the stress of an increase in share capital so soon in the business especially when investors make offers in exchange for equity. The minimum authorised share capital is 2,000,000 naira for public companies.'),\n",
       " Document(metadata={'producer': 'Skia/PDF m141 Google Docs Renderer', 'creator': 'PyPDF', 'creationdate': '', 'title': 'vit_urls', 'source': './data\\\\vit_urls.pdf', 'total_pages': 30, 'page': 23, 'page_label': '24', '_id': '04370a56-eef3-4671-8a3a-aef485d2584c', '_collection_name': 'vit-rag'}, page_content='development of a sustainable and inclusive economy where the rights of workers are protected and upheld. Also, complying with the relevant regulations are essential pillars for building trust and fostering positive employer-employee relations. It’s important for employers to follow due process and adhere to relevant employment laws and regulations when terminating contracts to avoid potential legal repercussions. As a business owner, business registration with CAC in Nigeria is the first step required to commence a business in Nigeria. The Corporate Affairs Commission (CAC) is the government body saddled with the task of registering new businesses. This body was established by virtue of the Companies and Allied Matters Act (CAMA) to regulate the formations and operations of companies in Nigeria. There have been various developments with respect to business name registration in Nigeria in recent years. The business name registration popularly known as Enterprise can now be completed online and the electronic certificates are now issued by CAC in lieu of the paper certificates. This is unlike before when you will have to bring everything in hardcopy and receive a hardcopy certificate. What does one need to commence the registration of business name? Below are the requirements for Business Name in Nigeria. REQUIREMENTS FOR BUSINESS NAME REGISTRATION (ENTERPRISE) 1. Proposed name(s) for name search. 2. The registered address of the proposed business 3. Email and phone number of the proposed business 4. Details of the proprietor(s) 5. full names 6. residential address 7. phone number 8. date of birth 9. email address 10. occupation 11. Identification document of the proprietor(s) ie: international passport or Voter’s card or Driver’s license or NIN. 12. Softcopy of the proprietor’s passport 13. Signature of the proprietor signed on a white sheet of paper. STEPS TO REGISTER A BUSINESS NAME For registration of Business Name, below are the steps required: 1. Submission of two desired names for the search:')]"
      ]
     },
     "execution_count": 60,
     "metadata": {},
     "output_type": "execute_result"
    }
   ],
   "source": [
    "r = retriever.invoke(\"type of businesses in Nigeria?\")\n",
    "r"
   ]
  },
  {
   "cell_type": "markdown",
   "id": "fe8827ff",
   "metadata": {},
   "source": [
    "### retrieval tool --> concatenates doucuments\n"
   ]
  },
  {
   "cell_type": "code",
   "execution_count": 65,
   "id": "d759809d",
   "metadata": {},
   "outputs": [],
   "source": [
    "from langchain.tools.retriever import create_retriever_tool\n",
    "# from utils import format_retriever_results"
   ]
  },
  {
   "cell_type": "code",
   "execution_count": null,
   "metadata": {},
   "outputs": [
    {
     "name": "stdout",
     "output_type": "stream",
     "text": [
      "eed a business permit as a foreigner to work and carry out business in Nigeria? Yes, a foreigner needs a business permit 11. What are the various types of businesses I can register in Nigeria? The various types or forms of businesses in Nigeria are – Business name, limited liability, partnerships, and incorporated trustees 12. How long does it take to register a business in Nigeria? It takes an average of between 1-3 weeks to register a business in Nigeria 13. What is the benefit of registering a business in Nigeria? Registering your business in Nigeria creates a legal personality that will help you get access to government grants & investors 14. How many directors is a company required to have in Nigeria? A private company is required to have a minimum of one director, however, a company limited by guarantee is required to have a minimum of two directors 15. Can a partnership be registered? Yes. 16. How do I decide the type or form of business I should register in Nigeria? Y\n"
     ]
    }
   ],
   "source": [
    "# Create retriever tool\n",
    "retriever_tool = create_retriever_tool(\n",
    "    retriever,\n",
    "    \"retrieve_context\",\n",
    "    \"Search and return information about businesses in Nigeria.\",\n",
    ")\n",
    "\n",
    "# Test the retriever tool\n",
    "result = retriever_tool.invoke(\n",
    "    {\"query\": \"what do i need to register a business in Nigeria?\"}\n",
    ")\n",
    "print(result[10:1000])"
   ]
  },
  {
   "cell_type": "markdown",
   "id": "ac176f2c",
   "metadata": {},
   "source": [
    "#### Leveraging LLM\n"
   ]
  },
  {
   "cell_type": "code",
   "execution_count": null,
   "id": "aa2b81ae",
   "metadata": {},
   "outputs": [],
   "source": [
    "import os\n",
    "from langchain.chat_models import init_chat_model\n",
    "\n",
    "load_dotenv()\n",
    "\n",
    "llm = init_chat_model(\n",
    "    \"gemini-2.5-flash\",\n",
    "    model_provider=\"google_genai\",\n",
    ")\n"
   ]
  },
  {
   "cell_type": "code",
   "execution_count": null,
   "id": "3e36d080",
   "metadata": {},
   "outputs": [],
   "source": [
    "# Bind tools\n",
    "tools = [retriever_tool]\n",
    "tools_by_name = {tool.name: tool for tool in tools}\n",
    "\n",
    "# Bind tools to LLM for agent functionality\n",
    "llm_with_tools = llm.bind_tools(tools)"
   ]
  },
  {
   "cell_type": "code",
   "execution_count": 80,
   "id": "70a758ef",
   "metadata": {},
   "outputs": [
    {
     "name": "stdout",
     "output_type": "stream",
     "text": [
      "content='I can help you find information about businesses in Nigeria. What kind of businesses are you looking for? ' additional_kwargs={} response_metadata={'prompt_feedback': {'block_reason': 0, 'safety_ratings': []}, 'finish_reason': 'STOP', 'model_name': 'gemini-2.5-flash', 'safety_ratings': []} id='run--44e850fd-a000-427e-ac32-e0c205e33a0c-0' usage_metadata={'input_tokens': 56, 'output_tokens': 20, 'total_tokens': 76, 'input_token_details': {'cache_read': 0}}\n"
     ]
    }
   ],
   "source": [
    "res = llm_with_tools.invoke(\"Hello, what can you help me with?\")\n",
    "print(res)"
   ]
  },
  {
   "cell_type": "code",
   "execution_count": null,
   "id": "2ff872ba",
   "metadata": {},
   "outputs": [],
   "source": []
  },
  {
   "cell_type": "code",
   "execution_count": null,
   "id": "6c413edf",
   "metadata": {},
   "outputs": [
    {
     "data": {
      "image/png": "[encoded data removed]",
      "text/plain": [
       "<IPython.core.display.Image object>"
      ]
     },
     "metadata": {},
     "output_type": "display_data"
    }
   ],
   "source": [
    "from typing_extensions import Literal\n",
    "from IPython.display import Image, display\n",
    "from langchain_core.messages import SystemMessage, ToolMessage\n",
    "from langgraph.graph import END, START, StateGraph, MessagesState\n",
    "\n",
    "# Define the RAG agent system prompt\n",
    "rag_prompt = \"\"\"You are a helpful assistant tasked with retrieving information from a context on starting a business in Nigeria. \n",
    "Clarify the scope of research with the user before using your retrieval tool to gather context. Reflect on any context you fetch, and\n",
    "proceed until you have sufficient context to answer the user's research request.\"\"\"\n",
    "\n",
    "\n",
    "def llm_call(state: MessagesState) -> dict:\n",
    "    \"\"\"LLM decides whether to call a tool or not.\n",
    "\n",
    "    Args:\n",
    "        state: Current conversation state\n",
    "\n",
    "    Returns:\n",
    "        Dictionary with new messages\n",
    "    \"\"\"\n",
    "    return {\n",
    "        \"messages\": [\n",
    "            llm_with_tools.invoke(\n",
    "                [SystemMessage(content=rag_prompt)] + state[\"messages\"]\n",
    "            )\n",
    "        ]\n",
    "    }\n",
    "\n",
    "\n",
    "def tool_node(state: MessagesState) -> dict:\n",
    "    \"\"\"Performs the tool call.\n",
    "\n",
    "    Args:\n",
    "        state: Current conversation state with tool calls\n",
    "\n",
    "    Returns:\n",
    "        Dictionary with tool results\n",
    "    \"\"\"\n",
    "    result = []\n",
    "    for tool_call in state[\"messages\"][-1].tool_calls:\n",
    "        tool = tools_by_name[tool_call[\"name\"]]\n",
    "        observation = tool.invoke(tool_call[\"args\"])\n",
    "        result.append(ToolMessage(content=observation, tool_call_id=tool_call[\"id\"]))\n",
    "    return {\"messages\": result}\n",
    "\n",
    "\n",
    "def should_continue(state: MessagesState) -> Literal[\"tool_node\", \"__end__\"]:\n",
    "    \"\"\"Decide if we should continue the loop or stop based upon whether the LLM made a tool call.\n",
    "\n",
    "    Args:\n",
    "        state: Current conversation state\n",
    "\n",
    "    Returns:\n",
    "        Next node to execute\n",
    "    \"\"\"\n",
    "    messages = state[\"messages\"]\n",
    "    last_message = messages[-1]\n",
    "\n",
    "    # If the LLM makes a tool call, then perform an action\n",
    "    if last_message.tool_calls:\n",
    "        return \"tool_node\"\n",
    "    # Otherwise, we stop (reply to the user)\n",
    "    return END\n",
    "\n",
    "\n",
    "# Build workflow\n",
    "agent_builder = StateGraph(MessagesState)\n",
    "\n",
    "# Add nodes\n",
    "agent_builder.add_node(\"llm_call\", llm_call)\n",
    "agent_builder.add_node(\"tool_node\", tool_node)\n",
    "\n",
    "# Add edges to connect nodes\n",
    "agent_builder.add_edge(START, \"llm_call\")\n",
    "agent_builder.add_conditional_edges(\n",
    "    \"llm_call\",\n",
    "    should_continue,\n",
    "    {\n",
    "        \"tool_node\": \"tool_node\",\n",
    "        END: END,\n",
    "    },\n",
    ")\n",
    "agent_builder.add_edge(\"tool_node\", \"llm_call\")\n",
    "\n",
    "# Compile the agent\n",
    "agent = agent_builder.compile()\n",
    "\n",
    "# Show the agent\n",
    "display(Image(agent.get_graph(xray=True).draw_mermaid_png()))"
   ]
  },
  {
   "cell_type": "code",
   "execution_count": null,
   "id": "a6dbada2",
   "metadata": {},
   "outputs": [
    {
     "name": "stdout",
     "output_type": "stream",
     "text": [
      "[HumanMessage(content='What are the types of businesses in Nigeria?', additional_kwargs={}, response_metadata={}, id='39195837-3d6f-4ca8-adde-101707447358'), AIMessage(content=\"To answer your question about the types of businesses in Nigeria, I need to clarify what specific aspect you're interested in. Are you asking about:\\n\\n*   **Legal structures** (e.g., sole proprietorship, partnership, limited liability company)?\\n*   **Industry sectors** (e.g., agriculture, technology, oil and gas)?\\n*   **Business sizes** (e.g., small, medium, large enterprises)?\\n\\nOnce I have a better understanding of your query, I can use my tools to retrieve the most relevant information.\", additional_kwargs={}, response_metadata={'prompt_feedback': {'block_reason': 0, 'safety_ratings': []}, 'finish_reason': 'STOP', 'model_name': 'gemini-2.5-flash', 'safety_ratings': []}, id='run--e0d6492b-de6c-4e61-95d9-20b24d8f8b62-0', usage_metadata={'input_tokens': 119, 'output_tokens': 193, 'total_tokens': 312, 'input_token_details': {'cache_read': 0}, 'output_token_details': {'reasoning': 79}})]\n"
     ]
    }
   ],
   "source": [
    "# from utils import format_messages\n",
    "\n",
    "# Execute the RAG agent\n",
    "query = \"What are the types of businesses in Nigeria?\"\n",
    "result = agent.invoke({\"messages\": [{\"role\": \"user\", \"content\": query}]})\n",
    "\n",
    "result = agent.invoke(state)\n",
    "\n",
    "# Format and display results\n",
    "print(result[\"messages\"])"
   ]
  },
  {
   "cell_type": "code",
   "execution_count": null,
   "id": "6f8479de",
   "metadata": {},
   "outputs": [
    {
     "name": "stdout",
     "output_type": "stream",
     "text": [
      "To answer your question about the types of businesses in Nigeria, I need to clarify what specific aspect you're interested in. Are you asking about:\n",
      "\n",
      "*   **Legal structures** (e.g., sole proprietorship, partnership, limited liability company)?\n",
      "*   **Industry sectors** (e.g., agriculture, technology, oil and gas)?\n",
      "*   **Business sizes** (e.g., small, medium, large enterprises)?\n",
      "\n",
      "Once I have a better understanding of your query, I can use my tools to retrieve the most relevant information.\n"
     ]
    }
   ],
   "source": [
    "print(result[\"messages\"][1].content)"
   ]
  },
  {
   "cell_type": "code",
   "execution_count": 100,
   "metadata": {},
   "outputs": [],
   "source": [
    "# Save the messages to use for next turn\n",
    "conversation = result[\"messages\"]\n",
    "\n",
    "follow_up = \"Tell me more about sole proprietorships.\"\n",
    "\n",
    "# Append the new user message\n",
    "conversation.append({\"role\": \"user\", \"content\": follow_up})\n",
    "\n",
    "# Invoke agent with full message history\n",
    "result = agent.invoke({\"messages\": conversation})\n",
    "\n",
    "# Update the conversation with the new messages\n",
    "conversation = result[\"messages\"]"
   ]
  },
  {
   "cell_type": "code",
   "execution_count": null,
   "id": "33cab1b5",
   "metadata": {},
   "outputs": [
    {
     "data": {
      "text/plain": [
       "AIMessage(content='In Nigeria, a sole proprietorship is referred to as a \"business name\" or \"Enterprise.\" It\\'s the simplest form of business to register and operate. Here\\'s what I\\'ve gathered about them:\\n\\n**Key Characteristics:**\\n\\n*   **Registration Body:** The Corporate Affairs Commission (CAC) is the government body responsible for registering all businesses in Nigeria, including sole proprietorships.\\n*   **Online Registration:** The registration process for a business name can now be completed entirely online, and electronic certificates are issued instead of paper ones.\\n*   **Legal Personality:** Registering your business, even as a sole proprietorship, creates a legal personality for it. This can be beneficial for accessing government grants and attracting investors.\\n*   **Conversion:** A business name can be converted into a company limited by shares, offering flexibility as your business grows.\\n\\n**Requirements for Registration:**\\n\\nTo register a business name (sole proprietorship) in Nigeria, you\\'ll need the following:\\n\\n1.  **Proposed Name(s):** Submit two desired names for a name search.\\n2.  **Registered Address:** The physical address of your proposed business.\\n3.  **Contact Information:** Email and phone number for the business.\\n4.  **Proprietor\\'s Details:**\\n    *   Full name(s)\\n    *   Residential address\\n    *   Phone number\\n    *   Date of birth\\n    *   Email address\\n    *   Occupation\\n5.  **Identification Document:** A copy of the proprietor\\'s international passport, voter\\'s card, driver\\'s license, or National Identification Number (NIN).\\n6.  **Passport Photograph:** A softcopy of the proprietor\\'s passport photograph.\\n7.  **Signature:** The proprietor\\'s signature on a white sheet of paper.\\n\\n**Steps for Registration:**\\n\\n1.  **Name Submission:** Submit two desired names for a name search.\\n\\nIt\\'s important to note that certain names are restrictive or prohibited (e.g., names already registered, names suggesting government patronage, or specific words like \"Co-operative\" or \"Building Society\").\\n\\nThis information should give you a good overview of sole proprietorships in Nigeria. Let me know if you have any more questions!', additional_kwargs={}, response_metadata={'prompt_feedback': {'block_reason': 0, 'safety_ratings': []}, 'finish_reason': 'STOP', 'model_name': 'gemini-2.5-flash', 'safety_ratings': []}, id='run--81edc7f4-6157-4e7d-ad28-44f17763f26d-0', usage_metadata={'input_tokens': 1705, 'output_tokens': 472, 'total_tokens': 2177, 'input_token_details': {'cache_read': 0}})"
      ]
     },
     "execution_count": 123,
     "metadata": {},
     "output_type": "execute_result"
    }
   ],
   "source": [
    "conversation[-1]"
   ]
  },
  {
   "cell_type": "code",
   "execution_count": null,
   "id": "eac5e909",
   "metadata": {},
   "outputs": [],
   "source": [
    "def get_last_assistant_message(messages: list[str]) -> str:\n",
    "    for msg in reversed(messages):\n",
    "        return msg.content\n",
    "    return \"[No assistant response found]\"\n"
   ]
  },
  {
   "cell_type": "code",
   "execution_count": 158,
   "id": "864518d6",
   "metadata": {},
   "outputs": [
    {
     "data": {
      "text/plain": [
       "'In Nigeria, a sole proprietorship is referred to as a \"business name\" or \"Enterprise.\" It\\'s the simplest form of business to register and operate. Here\\'s what I\\'ve gathered about them:\\n\\n**Key Characteristics:**\\n\\n*   **Registration Body:** The Corporate Affairs Commission (CAC) is the government body responsible for registering all businesses in Nigeria, including sole proprietorships.\\n*   **Online Registration:** The registration process for a business name can now be completed entirely online, and electronic certificates are issued instead of paper ones.\\n*   **Legal Personality:** Registering your business, even as a sole proprietorship, creates a legal personality for it. This can be beneficial for accessing government grants and attracting investors.\\n*   **Conversion:** A business name can be converted into a company limited by shares, offering flexibility as your business grows.\\n\\n**Requirements for Registration:**\\n\\nTo register a business name (sole proprietorship) in Nigeria, you\\'ll need the following:\\n\\n1.  **Proposed Name(s):** Submit two desired names for a name search.\\n2.  **Registered Address:** The physical address of your proposed business.\\n3.  **Contact Information:** Email and phone number for the business.\\n4.  **Proprietor\\'s Details:**\\n    *   Full name(s)\\n    *   Residential address\\n    *   Phone number\\n    *   Date of birth\\n    *   Email address\\n    *   Occupation\\n5.  **Identification Document:** A copy of the proprietor\\'s international passport, voter\\'s card, driver\\'s license, or National Identification Number (NIN).\\n6.  **Passport Photograph:** A softcopy of the proprietor\\'s passport photograph.\\n7.  **Signature:** The proprietor\\'s signature on a white sheet of paper.\\n\\n**Steps for Registration:**\\n\\n1.  **Name Submission:** Submit two desired names for a name search.\\n\\nIt\\'s important to note that certain names are restrictive or prohibited (e.g., names already registered, names suggesting government patronage, or specific words like \"Co-operative\" or \"Building Society\").\\n\\nThis information should give you a good overview of sole proprietorships in Nigeria. Let me know if you have any more questions!'"
      ]
     },
     "execution_count": 158,
     "metadata": {},
     "output_type": "execute_result"
    }
   ],
   "source": [
    "result[\"messages\"][-1].content"
   ]
  },
  {
   "cell_type": "code",
   "execution_count": null,
   "id": "2a60965c",
   "metadata": {},
   "outputs": [
    {
     "ename": "TypeError",
     "evalue": "'AIMessage' object is not subscriptable",
     "output_type": "error",
     "traceback": [
      "\u001b[31m---------------------------------------------------------------------------\u001b[39m",
      "\u001b[31mTypeError\u001b[39m                                 Traceback (most recent call last)",
      "\u001b[36mCell\u001b[39m\u001b[36m \u001b[39m\u001b[32mIn[153]\u001b[39m\u001b[32m, line 2\u001b[39m\n\u001b[32m      1\u001b[39m \u001b[38;5;28;01mfor\u001b[39;00m msg \u001b[38;5;129;01min\u001b[39;00m \u001b[38;5;28mreversed\u001b[39m(result[\u001b[33m\"\u001b[39m\u001b[33mmessages\u001b[39m\u001b[33m\"\u001b[39m]):\n\u001b[32m----> \u001b[39m\u001b[32m2\u001b[39m     \u001b[38;5;28;01mif\u001b[39;00m \u001b[43mmsg\u001b[49m\u001b[43m[\u001b[49m\u001b[33;43m\"\u001b[39;49m\u001b[33;43mrole\u001b[39;49m\u001b[33;43m\"\u001b[39;49m\u001b[43m]\u001b[49m == \u001b[33m\"\u001b[39m\u001b[33massistant\u001b[39m\u001b[33m\"\u001b[39m:\n\u001b[32m      3\u001b[39m         \u001b[38;5;28mprint\u001b[39m( msg[\u001b[33m\"\u001b[39m\u001b[33mcontent\u001b[39m\u001b[33m\"\u001b[39m])\n\u001b[32m      4\u001b[39m     \u001b[38;5;28;01melse\u001b[39;00m:\n",
      "\u001b[31mTypeError\u001b[39m: 'AIMessage' object is not subscriptable"
     ]
    }
   ],
   "source": [
    "for msg in reversed(result[\"messages\"]):\n",
    "    if msg[\"role\"] == \"assistant\":\n",
    "        print(msg[\"content\"])\n",
    "    else:\n",
    "        print(\"none\")"
   ]
  },
  {
   "cell_type": "code",
   "execution_count": 150,
   "id": "5443c6a5",
   "metadata": {},
   "outputs": [
    {
     "name": "stdout",
     "output_type": "stream",
     "text": [
      "Assistant: In Nigeria, a sole proprietorship is referred to as a \"business name\" or \"Enterprise.\" It's the simplest form of business to register and operate. Here's what I've gathered about them:\n",
      "\n",
      "**Key Characteristics:**\n",
      "\n",
      "*   **Registration Body:** The Corporate Affairs Commission (CAC) is the government body responsible for registering all businesses in Nigeria, including sole proprietorships.\n",
      "*   **Online Registration:** The registration process for a business name can now be completed entirely online, and electronic certificates are issued instead of paper ones.\n",
      "*   **Legal Personality:** Registering your business, even as a sole proprietorship, creates a legal personality for it. This can be beneficial for accessing government grants and attracting investors.\n",
      "*   **Conversion:** A business name can be converted into a company limited by shares, offering flexibility as your business grows.\n",
      "\n",
      "**Requirements for Registration:**\n",
      "\n",
      "To register a business name (sole proprietorship) in Nigeria, you'll need the following:\n",
      "\n",
      "1.  **Proposed Name(s):** Submit two desired names for a name search.\n",
      "2.  **Registered Address:** The physical address of your proposed business.\n",
      "3.  **Contact Information:** Email and phone number for the business.\n",
      "4.  **Proprietor's Details:**\n",
      "    *   Full name(s)\n",
      "    *   Residential address\n",
      "    *   Phone number\n",
      "    *   Date of birth\n",
      "    *   Email address\n",
      "    *   Occupation\n",
      "5.  **Identification Document:** A copy of the proprietor's international passport, voter's card, driver's license, or National Identification Number (NIN).\n",
      "6.  **Passport Photograph:** A softcopy of the proprietor's passport photograph.\n",
      "7.  **Signature:** The proprietor's signature on a white sheet of paper.\n",
      "\n",
      "**Steps for Registration:**\n",
      "\n",
      "1.  **Name Submission:** Submit two desired names for a name search.\n",
      "\n",
      "It's important to note that certain names are restrictive or prohibited (e.g., names already registered, names suggesting government patronage, or specific words like \"Co-operative\" or \"Building Society\").\n",
      "\n",
      "This information should give you a good overview of sole proprietorships in Nigeria. Let me know if you have any more questions!\n"
     ]
    }
   ],
   "source": [
    "response = conversation[-1].content\n",
    "print(\"Assistant:\", response)\n"
   ]
  },
  {
   "cell_type": "code",
   "execution_count": null,
   "id": "81ede8e9",
   "metadata": {},
   "outputs": [
    {
     "data": {
      "text/plain": [
       "{'metadata': {'source': 'https://medium.com/@olalekantemidayo1/5-legal-documents-every-startup-founder-needs-before-collecting-a-kobo-9f09721a59da',\n",
       "  'title': '5 Legal Documents Every Startup Founder Needs Before Collecting a Kobo | by Temidayo V. Olalekan | Jun, 2025 | Medium',\n",
       "  'description': 'Do you know that one of the top reasons most Nigerian startups fail during investor or regulator due diligence is the lack of proper paperwork and legal documentation? This can impact your funding…',\n",
       "  'language': 'en'}}"
      ]
     },
     "execution_count": 42,
     "metadata": {},
     "output_type": "execute_result"
    }
   ],
   "source": []
  },
  {
   "cell_type": "markdown",
   "id": "f4121b30",
   "metadata": {},
   "source": [
    "### Load LLM\n"
   ]
  }
 ],
 "metadata": {
  "kernelspec": {
   "display_name": "agent-env",
   "language": "python",
   "name": "python3"
  },
  "language_info": {
   "codemirror_mode": {
    "name": "ipython",
    "version": 3
   },
   "file_extension": ".py",
   "mimetype": "text/x-python",
   "name": "python",
   "nbconvert_exporter": "python",
   "pygments_lexer": "ipython3",
   "version": "3.13.2"
  }
 },
 "nbformat": 4,
 "nbformat_minor": 5
}
